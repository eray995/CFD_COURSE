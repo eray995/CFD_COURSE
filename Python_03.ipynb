{
 "cells": [
  {
   "cell_type": "markdown",
   "metadata": {},
   "source": [
    "# FUNCTIONS"
   ]
  },
  {
   "cell_type": "code",
   "execution_count": 1,
   "metadata": {},
   "outputs": [
    {
     "name": "stdout",
     "output_type": "stream",
     "text": [
      "Hello, Ellie\n",
      "Hello, Aylin\n"
     ]
    }
   ],
   "source": [
    "# Creating our first function, it will return the name being type in the block of code.\n",
    "#Function name is up to you , after typing def,  come up with any arbitrary name of your choice,\n",
    "#in this example,the function name is say_my_name\n",
    "\"\"\"every function should have a parameter aka variables Parameters contain arguments,  \n",
    "arguments are passed once the function is defined such as parameter name, argument being passed is Ellie \"\"\" \n",
    "def say_my_name(name): \n",
    "    print('Hello, '+name)\n",
    "\n",
    "say_my_name('Ellie')    # call the function to execute the code\n",
    "say_my_name('Aylin')    # You can pass as many arguments as you want"
   ]
  },
  {
   "cell_type": "markdown",
   "metadata": {},
   "source": [
    "## Return Statement and Values"
   ]
  },
  {
   "cell_type": "code",
   "execution_count": 5,
   "metadata": {},
   "outputs": [
    {
     "data": {
      "text/plain": [
       "5050"
      ]
     },
     "execution_count": 5,
     "metadata": {},
     "output_type": "execute_result"
    }
   ],
   "source": [
    "# Now, We have a function, which is calling out our name, you can create a myriad of \n",
    "#functions to calculate various mathematical equations,as well. \n",
    "\n",
    "# To evaluate the value return statement is used to calculate various mathematical statements such as len() function\n",
    "\n",
    "def my_sum(num):\n",
    "    total_sum=0\n",
    "    for i in range(1,num+1):\n",
    "        total_sum+=i\n",
    "    return total_sum\n",
    "\n",
    "my_sum(100)"
   ]
  },
  {
   "cell_type": "code",
   "execution_count": 6,
   "metadata": {},
   "outputs": [
    {
     "data": {
      "text/plain": [
       "551775"
      ]
     },
     "execution_count": 6,
     "metadata": {},
     "output_type": "execute_result"
    }
   ],
   "source": [
    "my_sum(1050)"
   ]
  },
  {
   "cell_type": "markdown",
   "metadata": {},
   "source": [
    "## Local and Global Variables"
   ]
  },
  {
   "cell_type": "markdown",
   "metadata": {},
   "source": [
    "While defining the functions, the variables aka parameters also differ one another as local and global variables.\n",
    "The ones, which are to be found in the body of the function are called local variable.\n",
    "Whereas, global variables are assigned variables outside the function.When your program terminates, the global scope is destroyed, and all its variables are forgotten.\n",
    "\n",
    "• Code in the global scope, outside of all functions, cannot use any\n",
    "local variables.\n",
    "\n",
    "• However, code in a local scope can access global variables.\n",
    "\n",
    "• Code in a function’s local scope cannot use variables in any other local scope.\n",
    "\n",
    "• You can use the same name for different variables if they are in different\n",
    "scopes."
   ]
  },
  {
   "cell_type": "markdown",
   "metadata": {},
   "source": [
    "### Local Variables Cannot Be Used in the Global Scope"
   ]
  },
  {
   "cell_type": "code",
   "execution_count": 9,
   "metadata": {},
   "outputs": [
    {
     "ename": "NameError",
     "evalue": "name 'total_amount' is not defined",
     "output_type": "error",
     "traceback": [
      "\u001b[1;31m---------------------------------------------------------------------------\u001b[0m",
      "\u001b[1;31mNameError\u001b[0m                                 Traceback (most recent call last)",
      "\u001b[1;32m<ipython-input-9-1840fc1aa5e2>\u001b[0m in \u001b[0;36m<module>\u001b[1;34m\u001b[0m\n\u001b[0;32m      3\u001b[0m \u001b[1;33m\u001b[0m\u001b[0m\n\u001b[0;32m      4\u001b[0m \u001b[0mcount_number\u001b[0m\u001b[1;33m(\u001b[0m\u001b[1;33m)\u001b[0m\u001b[1;33m\u001b[0m\u001b[1;33m\u001b[0m\u001b[0m\n\u001b[1;32m----> 5\u001b[1;33m \u001b[0mprint\u001b[0m\u001b[1;33m(\u001b[0m\u001b[0mtotal_amount\u001b[0m\u001b[1;33m)\u001b[0m\u001b[1;33m\u001b[0m\u001b[1;33m\u001b[0m\u001b[0m\n\u001b[0m",
      "\u001b[1;31mNameError\u001b[0m: name 'total_amount' is not defined"
     ]
    }
   ],
   "source": [
    "def count_number():\n",
    "    total_amount= 79804  # local variable\n",
    "    \n",
    "count_number()\n",
    "print(total_amount) # calling local variable in the global scope"
   ]
  },
  {
   "cell_type": "markdown",
   "metadata": {},
   "source": [
    "That is why, global variables can only be used in the global scope."
   ]
  },
  {
   "cell_type": "markdown",
   "metadata": {},
   "source": [
    "### Local Scopes Cannot Use Variables in Other Local Scopes"
   ]
  },
  {
   "cell_type": "code",
   "execution_count": 11,
   "metadata": {},
   "outputs": [
    {
     "name": "stdout",
     "output_type": "stream",
     "text": [
      "35\n"
     ]
    }
   ],
   "source": [
    "def count_number():\n",
    "    Advanced_Unit= 35\n",
    "    failed_students() # second function is being called.\n",
    "    print(Advanced_Unit)\n",
    "    \n",
    "def failed_students():\n",
    "    CFD = 6\n",
    "    Advanced_Unit = 21\n",
    "\n",
    "count_number()"
   ]
  },
  {
   "cell_type": "markdown",
   "metadata": {},
   "source": [
    "### Global Variables Can Be Read from a Local Scope"
   ]
  },
  {
   "cell_type": "code",
   "execution_count": 13,
   "metadata": {},
   "outputs": [
    {
     "name": "stdout",
     "output_type": "stream",
     "text": [
      "35\n",
      "35\n"
     ]
    }
   ],
   "source": [
    "def count_number():\n",
    "    print(AUO)\n",
    "\n",
    "AUO=35 # REFERENCE TO THE GLOBAL VARIABLE\n",
    "count_number()\n",
    "print(AUO)"
   ]
  },
  {
   "cell_type": "markdown",
   "metadata": {},
   "source": [
    "### Local and Global Variables with the Same Name "
   ]
  },
  {
   "cell_type": "code",
   "execution_count": 16,
   "metadata": {},
   "outputs": [
    {
     "name": "stdout",
     "output_type": "stream",
     "text": [
      "failed_students local variable\n",
      "count_number local variable\n",
      "failed_students local variable\n",
      "global\n"
     ]
    }
   ],
   "source": [
    "def count_number():\n",
    "    AUO = 'count_number local variable'\n",
    "    print(AUO)    #prints count_number local\n",
    "    \n",
    "def failed_students():\n",
    "    AUO = 'failed_students local variable'\n",
    "    print(AUO)    # prints failed_students local\n",
    "    count_number()\n",
    "    print(AUO)     # prints failed_students local\n",
    "    \n",
    "AUO = 'global'\n",
    "failed_students()\n",
    "print(AUO)  #prints global"
   ]
  },
  {
   "cell_type": "markdown",
   "metadata": {},
   "source": [
    "Nevertheless, you should avoid using the same variable name in different scopes"
   ]
  },
  {
   "cell_type": "markdown",
   "metadata": {},
   "source": [
    "### Calling global function within a function "
   ]
  },
  {
   "cell_type": "code",
   "execution_count": 18,
   "metadata": {},
   "outputs": [
    {
     "name": "stdout",
     "output_type": "stream",
     "text": [
      "35\n"
     ]
    }
   ],
   "source": [
    "def groceries():\n",
    "    global eggs # after this statement , no local variables can be created.\n",
    "    eggs = '35'  # global variable\n",
    "    \n",
    "eggs='global'  # trying to overwrite variable by assigning local but it cannot be overwritten!\n",
    "groceries()\n",
    "print(eggs)\n",
    "    "
   ]
  },
  {
   "cell_type": "markdown",
   "metadata": {},
   "source": [
    "If a variable is being used in the global scope (that is, outside of all functions), then it is always a global variable.\n",
    "\n",
    "If there is a global statement for that variable in a function, it is a\n",
    "global variable.\n",
    "\n",
    "Otherwise, if the variable is used in an assignment statement in the\n",
    "function, it is a local variable. if the variable is not used in an assignment statement, it is a\n",
    "global variable"
   ]
  },
  {
   "cell_type": "code",
   "execution_count": 19,
   "metadata": {},
   "outputs": [
    {
     "name": "stdout",
     "output_type": "stream",
     "text": [
      "spam\n"
     ]
    }
   ],
   "source": [
    "def spam():\n",
    "    global eggs\n",
    "    eggs = 'spam'  # global variable\n",
    "    \n",
    "def bacon():\n",
    "    eggs='bacon'   # local\n",
    "    \n",
    "def ham():\n",
    "    print(eggs)  # global\n",
    "    \n",
    "eggs=42  # global\n",
    "spam()\n",
    "print(eggs)"
   ]
  },
  {
   "cell_type": "markdown",
   "metadata": {},
   "source": [
    "If you ever want to modify the value stored in a global variable from in a function,\n",
    "you must use a global statement on that variable."
   ]
  },
  {
   "cell_type": "markdown",
   "metadata": {},
   "source": [
    "# EXCEPTION HANDLING "
   ]
  },
  {
   "cell_type": "markdown",
   "metadata": {},
   "source": [
    "If you want to sustain your code in a way that it would not crash in case of any error. You can deal with them by exception handling.It helps program to detect errors, handle them, and then continue to run."
   ]
  },
  {
   "cell_type": "code",
   "execution_count": 20,
   "metadata": {},
   "outputs": [
    {
     "ename": "ZeroDivisionError",
     "evalue": "division by zero",
     "output_type": "error",
     "traceback": [
      "\u001b[1;31m---------------------------------------------------------------------------\u001b[0m",
      "\u001b[1;31mZeroDivisionError\u001b[0m                         Traceback (most recent call last)",
      "\u001b[1;32m<ipython-input-20-5c446e477d99>\u001b[0m in \u001b[0;36m<module>\u001b[1;34m\u001b[0m\n\u001b[0;32m      1\u001b[0m \u001b[1;31m# Dividing by Zero:\u001b[0m\u001b[1;33m\u001b[0m\u001b[1;33m\u001b[0m\u001b[1;33m\u001b[0m\u001b[0m\n\u001b[0;32m      2\u001b[0m \u001b[1;33m\u001b[0m\u001b[0m\n\u001b[1;32m----> 3\u001b[1;33m \u001b[1;36m120\u001b[0m\u001b[1;33m/\u001b[0m\u001b[1;36m0\u001b[0m\u001b[1;33m\u001b[0m\u001b[1;33m\u001b[0m\u001b[0m\n\u001b[0m",
      "\u001b[1;31mZeroDivisionError\u001b[0m: division by zero"
     ]
    }
   ],
   "source": [
    "# Dividing by Zero:\n",
    "\n",
    "120/0"
   ]
  },
  {
   "cell_type": "code",
   "execution_count": 25,
   "metadata": {},
   "outputs": [
    {
     "name": "stdout",
     "output_type": "stream",
     "text": [
      "30.0\n"
     ]
    },
    {
     "ename": "ZeroDivisionError",
     "evalue": "division by zero",
     "output_type": "error",
     "traceback": [
      "\u001b[1;31m---------------------------------------------------------------------------\u001b[0m",
      "\u001b[1;31mZeroDivisionError\u001b[0m                         Traceback (most recent call last)",
      "\u001b[1;32m<ipython-input-25-4e28a0a784d7>\u001b[0m in \u001b[0;36m<module>\u001b[1;34m\u001b[0m\n\u001b[0;32m      4\u001b[0m \u001b[0mprint\u001b[0m\u001b[1;33m(\u001b[0m\u001b[0mhandle_error_division\u001b[0m\u001b[1;33m(\u001b[0m\u001b[1;36m120\u001b[0m\u001b[1;33m,\u001b[0m\u001b[1;36m4\u001b[0m\u001b[1;33m)\u001b[0m\u001b[1;33m)\u001b[0m\u001b[1;33m\u001b[0m\u001b[1;33m\u001b[0m\u001b[0m\n\u001b[0;32m      5\u001b[0m \u001b[1;33m\u001b[0m\u001b[0m\n\u001b[1;32m----> 6\u001b[1;33m \u001b[0mprint\u001b[0m\u001b[1;33m(\u001b[0m\u001b[0mhandle_error_division\u001b[0m\u001b[1;33m(\u001b[0m\u001b[1;36m120\u001b[0m\u001b[1;33m,\u001b[0m\u001b[1;36m0\u001b[0m\u001b[1;33m)\u001b[0m\u001b[1;33m)\u001b[0m\u001b[1;33m\u001b[0m\u001b[1;33m\u001b[0m\u001b[0m\n\u001b[0m",
      "\u001b[1;32m<ipython-input-25-4e28a0a784d7>\u001b[0m in \u001b[0;36mhandle_error_division\u001b[1;34m(number_, divide_By)\u001b[0m\n\u001b[0;32m      1\u001b[0m \u001b[1;32mdef\u001b[0m \u001b[0mhandle_error_division\u001b[0m\u001b[1;33m(\u001b[0m\u001b[0mnumber_\u001b[0m\u001b[1;33m,\u001b[0m\u001b[0mdivide_By\u001b[0m\u001b[1;33m)\u001b[0m\u001b[1;33m:\u001b[0m\u001b[1;33m\u001b[0m\u001b[1;33m\u001b[0m\u001b[0m\n\u001b[1;32m----> 2\u001b[1;33m     \u001b[1;32mreturn\u001b[0m \u001b[0mnumber_\u001b[0m\u001b[1;33m/\u001b[0m\u001b[0mdivide_By\u001b[0m\u001b[1;33m\u001b[0m\u001b[1;33m\u001b[0m\u001b[0m\n\u001b[0m\u001b[0;32m      3\u001b[0m \u001b[1;33m\u001b[0m\u001b[0m\n\u001b[0;32m      4\u001b[0m \u001b[0mprint\u001b[0m\u001b[1;33m(\u001b[0m\u001b[0mhandle_error_division\u001b[0m\u001b[1;33m(\u001b[0m\u001b[1;36m120\u001b[0m\u001b[1;33m,\u001b[0m\u001b[1;36m4\u001b[0m\u001b[1;33m)\u001b[0m\u001b[1;33m)\u001b[0m\u001b[1;33m\u001b[0m\u001b[1;33m\u001b[0m\u001b[0m\n\u001b[0;32m      5\u001b[0m \u001b[1;33m\u001b[0m\u001b[0m\n",
      "\u001b[1;31mZeroDivisionError\u001b[0m: division by zero"
     ]
    }
   ],
   "source": [
    "def handle_error_division(number_,divide_By):\n",
    "    return number_/divide_By\n",
    "\n",
    "print(handle_error_division(120,4))\n",
    "\n",
    "print(handle_error_division(120,0))"
   ]
  },
  {
   "cell_type": "code",
   "execution_count": 27,
   "metadata": {},
   "outputs": [
    {
     "name": "stdout",
     "output_type": "stream",
     "text": [
      "You cannot divide the number by 0!\n",
      "None\n",
      "0.38333333333333336\n"
     ]
    }
   ],
   "source": [
    "# Exception Handling:\n",
    "def handle_error_division(number_,divide_By):\n",
    "    try:\n",
    "        return number_/divide_By\n",
    "    except ZeroDivisionError:\n",
    "        print('You cannot divide the number by 0!')\n",
    "        \n",
    "print(handle_error_division(345,0))\n",
    "print(handle_error_division(345,900))"
   ]
  }
 ],
 "metadata": {
  "kernelspec": {
   "display_name": "Python 3",
   "language": "python",
   "name": "python3"
  },
  "language_info": {
   "codemirror_mode": {
    "name": "ipython",
    "version": 3
   },
   "file_extension": ".py",
   "mimetype": "text/x-python",
   "name": "python",
   "nbconvert_exporter": "python",
   "pygments_lexer": "ipython3",
   "version": "3.8.5"
  }
 },
 "nbformat": 4,
 "nbformat_minor": 4
}
