{
 "cells": [
  {
   "cell_type": "markdown",
   "metadata": {},
   "source": [
    "# LISTS,TUPLES & DICTIONARIES"
   ]
  },
  {
   "cell_type": "markdown",
   "metadata": {},
   "source": [
    "## List Data Type"
   ]
  },
  {
   "cell_type": "code",
   "execution_count": 2,
   "metadata": {},
   "outputs": [
    {
     "data": {
      "text/plain": [
       "[1, 2, 3]"
      ]
     },
     "execution_count": 2,
     "metadata": {},
     "output_type": "execute_result"
    }
   ],
   "source": [
    "list_1= [1,2,3]\n",
    "list_1"
   ]
  },
  {
   "cell_type": "code",
   "execution_count": 4,
   "metadata": {},
   "outputs": [
    {
     "data": {
      "text/plain": [
       "['Andy', 'Mary', 'Aylin', 'Susan']"
      ]
     },
     "execution_count": 4,
     "metadata": {},
     "output_type": "execute_result"
    }
   ],
   "source": [
    "list_names=['Andy','Mary','Aylin','Susan']\n",
    "list_names # values of the list_names are the strings inside the brackets"
   ]
  },
  {
   "cell_type": "markdown",
   "metadata": {},
   "source": [
    "### List Indexing"
   ]
  },
  {
   "cell_type": "markdown",
   "metadata": {},
   "source": [
    "list_names[0]='Andy' is a perfect example of list indexing, to retrieve a value from the list, we use indexing. In Python 3, indexing starts off with 0. In the case of lists, indexes are always integers such as 0,1,2,3,4,5,6... "
   ]
  },
  {
   "cell_type": "code",
   "execution_count": 7,
   "metadata": {},
   "outputs": [
    {
     "data": {
      "text/plain": [
       "'hyena'"
      ]
     },
     "execution_count": 7,
     "metadata": {},
     "output_type": "execute_result"
    }
   ],
   "source": [
    "animals=['cat','dog','bat','rat','hyena']\n",
    "animals[2]\n",
    "animals[3]\n",
    "animals[-1]"
   ]
  },
  {
   "cell_type": "code",
   "execution_count": 8,
   "metadata": {},
   "outputs": [
    {
     "name": "stdout",
     "output_type": "stream",
     "text": [
      "The cat snatched the bat from the tree trunk\n"
     ]
    }
   ],
   "source": [
    "print('The ' + animals[0] + ' snatched the ' + animals[2]+' from the tree trunk')"
   ]
  },
  {
   "cell_type": "code",
   "execution_count": 9,
   "metadata": {},
   "outputs": [
    {
     "ename": "TypeError",
     "evalue": "list indices must be integers or slices, not float",
     "output_type": "error",
     "traceback": [
      "\u001b[1;31m---------------------------------------------------------------------------\u001b[0m",
      "\u001b[1;31mTypeError\u001b[0m                                 Traceback (most recent call last)",
      "\u001b[1;32m<ipython-input-9-32f6c5e6c26c>\u001b[0m in \u001b[0;36m<module>\u001b[1;34m\u001b[0m\n\u001b[0;32m      1\u001b[0m \u001b[1;31m# Reiterating the indexing explanation: indexes cannot be floats\u001b[0m\u001b[1;33m\u001b[0m\u001b[1;33m\u001b[0m\u001b[1;33m\u001b[0m\u001b[0m\n\u001b[0;32m      2\u001b[0m \u001b[1;33m\u001b[0m\u001b[0m\n\u001b[1;32m----> 3\u001b[1;33m \u001b[0manimals\u001b[0m\u001b[1;33m[\u001b[0m\u001b[1;36m2.3\u001b[0m\u001b[1;33m]\u001b[0m\u001b[1;33m\u001b[0m\u001b[1;33m\u001b[0m\u001b[0m\n\u001b[0m",
      "\u001b[1;31mTypeError\u001b[0m: list indices must be integers or slices, not float"
     ]
    }
   ],
   "source": [
    "# Reiterating the indexing explanation: indexes cannot be floats\n",
    "\n",
    "animals[2.3]"
   ]
  },
  {
   "cell_type": "code",
   "execution_count": 11,
   "metadata": {},
   "outputs": [
    {
     "data": {
      "text/plain": [
       "[1, 2, 3, 4, 5, 6, 7, 8]"
      ]
     },
     "execution_count": 11,
     "metadata": {},
     "output_type": "execute_result"
    }
   ],
   "source": [
    "#list in a list\n",
    "\n",
    "animals=[['cat','rat','bat'],[1,2,3,4,5,6,7,8]]\n",
    "animals[0]\n",
    "animals[-1]"
   ]
  },
  {
   "cell_type": "code",
   "execution_count": 12,
   "metadata": {},
   "outputs": [
    {
     "data": {
      "text/plain": [
       "'bat'"
      ]
     },
     "execution_count": 12,
     "metadata": {},
     "output_type": "execute_result"
    }
   ],
   "source": [
    "#Multiple Indexing\n",
    "\n",
    "animals[0][-1]  # will give us the 'bat'"
   ]
  },
  {
   "cell_type": "markdown",
   "metadata": {},
   "source": [
    "### Slicing, Appending other modification techniques "
   ]
  },
  {
   "cell_type": "markdown",
   "metadata": {},
   "source": [
    "In a slice, the first integer is the index where the slice starts. The second\n",
    "integer is the index where the slice ends."
   ]
  },
  {
   "cell_type": "code",
   "execution_count": 14,
   "metadata": {},
   "outputs": [
    {
     "data": {
      "text/plain": [
       "['cat', 'dog']"
      ]
     },
     "execution_count": 14,
     "metadata": {},
     "output_type": "execute_result"
    }
   ],
   "source": [
    "animals=['cat','dog','bat','rat','hyena']\n",
    "animals[0:2]  # does not include the 2nd index"
   ]
  },
  {
   "cell_type": "code",
   "execution_count": 15,
   "metadata": {},
   "outputs": [
    {
     "data": {
      "text/plain": [
       "['dog', 'bat', 'rat', 'hyena']"
      ]
     },
     "execution_count": 15,
     "metadata": {},
     "output_type": "execute_result"
    }
   ],
   "source": [
    "animals[1:5]"
   ]
  },
  {
   "cell_type": "code",
   "execution_count": 16,
   "metadata": {},
   "outputs": [
    {
     "data": {
      "text/plain": [
       "['cat', 'dog', 'bat', 'rat', 'hyena']"
      ]
     },
     "execution_count": 16,
     "metadata": {},
     "output_type": "execute_result"
    }
   ],
   "source": [
    "animals[:]"
   ]
  },
  {
   "cell_type": "code",
   "execution_count": 17,
   "metadata": {},
   "outputs": [
    {
     "data": {
      "text/plain": [
       "['cat', 'dog', 'bat', 'rat']"
      ]
     },
     "execution_count": 17,
     "metadata": {},
     "output_type": "execute_result"
    }
   ],
   "source": [
    "animals[:-1]"
   ]
  },
  {
   "cell_type": "code",
   "execution_count": 19,
   "metadata": {},
   "outputs": [
    {
     "data": {
      "text/plain": [
       "['cat', 'dog', 'bat']"
      ]
     },
     "execution_count": 19,
     "metadata": {},
     "output_type": "execute_result"
    }
   ],
   "source": [
    "animals[:3] #slice thru from the zero index till the 3rd"
   ]
  },
  {
   "cell_type": "code",
   "execution_count": 20,
   "metadata": {},
   "outputs": [
    {
     "data": {
      "text/plain": [
       "['dog', 'bat', 'rat', 'hyena']"
      ]
     },
     "execution_count": 20,
     "metadata": {},
     "output_type": "execute_result"
    }
   ],
   "source": [
    "animals[1:]"
   ]
  },
  {
   "cell_type": "code",
   "execution_count": 21,
   "metadata": {},
   "outputs": [
    {
     "data": {
      "text/plain": [
       "5"
      ]
     },
     "execution_count": 21,
     "metadata": {},
     "output_type": "execute_result"
    }
   ],
   "source": [
    "len(animals)"
   ]
  },
  {
   "cell_type": "markdown",
   "metadata": {},
   "source": [
    "### Modifying Lists with Indexing"
   ]
  },
  {
   "cell_type": "code",
   "execution_count": 25,
   "metadata": {},
   "outputs": [
    {
     "data": {
      "text/plain": [
       "['cat', 'alligator', 'bat', 'rat', 'hyena']"
      ]
     },
     "execution_count": 25,
     "metadata": {},
     "output_type": "execute_result"
    }
   ],
   "source": [
    "animals[1]='alligator'\n",
    "animals"
   ]
  },
  {
   "cell_type": "code",
   "execution_count": 26,
   "metadata": {},
   "outputs": [],
   "source": [
    "animals[0]=animals[1]"
   ]
  },
  {
   "cell_type": "code",
   "execution_count": 27,
   "metadata": {},
   "outputs": [
    {
     "data": {
      "text/plain": [
       "['alligator', 'alligator', 'bat', 'rat', 'hyena']"
      ]
     },
     "execution_count": 27,
     "metadata": {},
     "output_type": "execute_result"
    }
   ],
   "source": [
    "animals"
   ]
  },
  {
   "cell_type": "code",
   "execution_count": 28,
   "metadata": {},
   "outputs": [
    {
     "data": {
      "text/plain": [
       "['alligator', 'alligator', 'bat', 'rat', 'hyena']"
      ]
     },
     "execution_count": 28,
     "metadata": {},
     "output_type": "execute_result"
    }
   ],
   "source": [
    "animals"
   ]
  },
  {
   "cell_type": "code",
   "execution_count": 29,
   "metadata": {},
   "outputs": [],
   "source": [
    "animals[-2]='guineapig'"
   ]
  },
  {
   "cell_type": "code",
   "execution_count": 30,
   "metadata": {},
   "outputs": [
    {
     "data": {
      "text/plain": [
       "['alligator', 'alligator', 'bat', 'guineapig', 'hyena']"
      ]
     },
     "execution_count": 30,
     "metadata": {},
     "output_type": "execute_result"
    }
   ],
   "source": [
    "animals"
   ]
  },
  {
   "cell_type": "markdown",
   "metadata": {},
   "source": [
    "### Concatenation and Replication"
   ]
  },
  {
   "cell_type": "code",
   "execution_count": 33,
   "metadata": {},
   "outputs": [
    {
     "data": {
      "text/plain": [
       "['alligator',\n",
       " 'alligator',\n",
       " 'bat',\n",
       " 'guineapig',\n",
       " 'hyena',\n",
       " 'tiger',\n",
       " 'chipmunk',\n",
       " 'squirrel']"
      ]
     },
     "execution_count": 33,
     "metadata": {},
     "output_type": "execute_result"
    }
   ],
   "source": [
    "concat_list=animals + ['tiger','chipmunk','squirrel']\n",
    "concat_list"
   ]
  },
  {
   "cell_type": "code",
   "execution_count": 34,
   "metadata": {},
   "outputs": [
    {
     "data": {
      "text/plain": [
       "['alligator',\n",
       " 'alligator',\n",
       " 'bat',\n",
       " 'guineapig',\n",
       " 'hyena',\n",
       " 'tiger',\n",
       " 'chipmunk',\n",
       " 'squirrel',\n",
       " 'alligator',\n",
       " 'alligator',\n",
       " 'bat',\n",
       " 'guineapig',\n",
       " 'hyena',\n",
       " 'tiger',\n",
       " 'chipmunk',\n",
       " 'squirrel',\n",
       " 'alligator',\n",
       " 'alligator',\n",
       " 'bat',\n",
       " 'guineapig',\n",
       " 'hyena',\n",
       " 'tiger',\n",
       " 'chipmunk',\n",
       " 'squirrel',\n",
       " 'alligator',\n",
       " 'alligator',\n",
       " 'bat',\n",
       " 'guineapig',\n",
       " 'hyena',\n",
       " 'tiger',\n",
       " 'chipmunk',\n",
       " 'squirrel']"
      ]
     },
     "execution_count": 34,
     "metadata": {},
     "output_type": "execute_result"
    }
   ],
   "source": [
    "concat_list*4"
   ]
  },
  {
   "cell_type": "code",
   "execution_count": 35,
   "metadata": {},
   "outputs": [
    {
     "data": {
      "text/plain": [
       "['alligator',\n",
       " 'alligator',\n",
       " 'bat',\n",
       " 'guineapig',\n",
       " 'hyena',\n",
       " 'tiger',\n",
       " 'chipmunk',\n",
       " 'squirrel',\n",
       " 1,\n",
       " 2,\n",
       " 3,\n",
       " 4,\n",
       " 5,\n",
       " 6,\n",
       " 99]"
      ]
     },
     "execution_count": 35,
     "metadata": {},
     "output_type": "execute_result"
    }
   ],
   "source": [
    "concat_list=concat_list+[1,2,3,4,5,6,99]\n",
    "concat_list"
   ]
  },
  {
   "cell_type": "markdown",
   "metadata": {},
   "source": [
    "### Removing Items"
   ]
  },
  {
   "cell_type": "code",
   "execution_count": 36,
   "metadata": {},
   "outputs": [
    {
     "data": {
      "text/plain": [
       "['alligator', 'alligator', 'guineapig', 'hyena']"
      ]
     },
     "execution_count": 36,
     "metadata": {},
     "output_type": "execute_result"
    }
   ],
   "source": [
    "del animals[2]\n",
    "animals"
   ]
  },
  {
   "cell_type": "code",
   "execution_count": 38,
   "metadata": {},
   "outputs": [
    {
     "data": {
      "text/plain": [
       "['alligator', 'alligator']"
      ]
     },
     "execution_count": 38,
     "metadata": {},
     "output_type": "execute_result"
    }
   ],
   "source": [
    "del animals[2]\n",
    "animals   # you have no longer have acces to the deleted variable.Del statement deletes values for good."
   ]
  },
  {
   "cell_type": "code",
   "execution_count": 42,
   "metadata": {},
   "outputs": [
    {
     "name": "stdout",
     "output_type": "stream",
     "text": [
      "Which modules are you taking this semester?Type q to exit the loop\n",
      "CF\n",
      "Which modules are you taking this semester?Type q to exit the loop\n",
      "CFD\n",
      "Which modules are you taking this semester?Type q to exit the loop\n",
      "Process Design\n",
      "Which modules are you taking this semester?Type q to exit the loop\n",
      "Mathematical Modelling\n",
      "Which modules are you taking this semester?Type q to exit the loop\n",
      "q\n",
      "I am taking 4 modules in total, and these are : \n",
      "\n",
      "CF\n",
      "\n",
      "CFD\n",
      "\n",
      "Process Design\n",
      "\n",
      "Mathematical Modelling\n"
     ]
    }
   ],
   "source": [
    "# Creating List based on input arguments\n",
    "\n",
    "module_names=[]\n",
    "\n",
    "while True:\n",
    "    print('Which modules are you taking this semester?'+'Type q to exit the loop')\n",
    "    module_name =input()\n",
    "    if module_name == 'q':\n",
    "        break\n",
    "    module_names=module_names+[module_name]  # concatenation\n",
    "print(f\"I am taking {len(module_names)} modules in total, and these are : \")\n",
    "for module_name in module_names:\n",
    "    print(f\"\\n{module_name}\")"
   ]
  },
  {
   "cell_type": "code",
   "execution_count": 49,
   "metadata": {},
   "outputs": [
    {
     "name": "stdout",
     "output_type": "stream",
     "text": [
      "Student number 0 in the list is:  Allie\n",
      "Student number 1 in the list is:  Susan\n",
      "Student number 2 in the list is:  Henrietta\n",
      "Student number 3 in the list is:  Victor\n",
      "Student number 4 in the list is:  Jonas\n"
     ]
    }
   ],
   "source": [
    "# loop thru the lists\n",
    "\n",
    "student_names=['Allie','Susan','Henrietta','Victor','Jonas']\n",
    "\n",
    "for student in range(len(student_names)):  #student is a placement value for indexing you can also name 'i', instead.\n",
    "    print('Student number '+str(student)+' in the list is:  '+student_names[student])"
   ]
  },
  {
   "cell_type": "code",
   "execution_count": 67,
   "metadata": {},
   "outputs": [
    {
     "name": "stdout",
     "output_type": "stream",
     "text": [
      "Enter a name: \n",
      "yeliz\n",
      "The name is not in the list, you want me to append it? type Y(Yes)/N (No) Press q to exit \n",
      "N\n",
      "Preparing the list...\n",
      "Current attendees are: \n",
      "Number 0 attendee in the list is:  Allie\n",
      "Number 1 attendee in the list is:  Susan\n",
      "Number 2 attendee in the list is:  Henrietta\n",
      "Number 3 attendee in the list is:  Victor\n",
      "Number 4 attendee in the list is:  Jonas\n",
      "Number 5 attendee in the list is:  aylin\n",
      "Number 6 attendee in the list is:  Aylin\n",
      "Number 7 attendee in the list is:  Ufuk\n"
     ]
    }
   ],
   "source": [
    "#Using Boolean Indexing\n",
    "student_names\n",
    "\n",
    "print('Enter a name: ')\n",
    "name=input()\n",
    "\n",
    "\n",
    "if name not in student_names:\n",
    "    print(\"The name is not in the list, you want me to append it? type Y(Yes)/N (No) Press q to exit \")\n",
    "    append_confirm=input()\n",
    "    if append_confirm == 'Y':\n",
    "        student_names=student_names+[name]\n",
    "    elif append_confirm == 'No' and append_confirm =='q':\n",
    "        student_names\n",
    "        \n",
    "print('Preparing the list...')\n",
    "     \n",
    "print('Current attendees are: ')\n",
    "for student in range(len(student_names)):\n",
    "    print('Number '+ str(student)+' attendee in the list is:  '+ student_names[student])\n",
    "            "
   ]
  },
  {
   "cell_type": "code",
   "execution_count": 68,
   "metadata": {},
   "outputs": [
    {
     "name": "stdout",
     "output_type": "stream",
     "text": [
      "Student Number 0 in the list is: Allie\n",
      "Student Number 1 in the list is: Susan\n",
      "Student Number 2 in the list is: Henrietta\n",
      "Student Number 3 in the list is: Victor\n",
      "Student Number 4 in the list is: Jonas\n",
      "Student Number 5 in the list is: aylin\n",
      "Student Number 6 in the list is: Aylin\n",
      "Student Number 7 in the list is: Ufuk\n"
     ]
    }
   ],
   "source": [
    "# enumerate for index looping\n",
    "\n",
    "for index,student in enumerate(student_names):\n",
    "    print('Student Number '+ str(index)\n",
    "         +' in the list is: '+ student)"
   ]
  },
  {
   "cell_type": "code",
   "execution_count": 69,
   "metadata": {},
   "outputs": [
    {
     "data": {
      "text/plain": [
       "'Victor'"
      ]
     },
     "execution_count": 69,
     "metadata": {},
     "output_type": "execute_result"
    }
   ],
   "source": [
    "#random choice\n",
    "import random\n",
    "\n",
    "student_names\n",
    "\n",
    "random.choice(student_names)"
   ]
  },
  {
   "cell_type": "code",
   "execution_count": 70,
   "metadata": {},
   "outputs": [
    {
     "data": {
      "text/plain": [
       "['aylin', 'Victor', 'Susan', 'Allie', 'Aylin', 'Henrietta', 'Jonas', 'Ufuk']"
      ]
     },
     "execution_count": 70,
     "metadata": {},
     "output_type": "execute_result"
    }
   ],
   "source": [
    "random.shuffle(student_names)\n",
    "student_names"
   ]
  },
  {
   "attachments": {
    "image.png": {
     "image/png": "[encoded data removed]"
    }
   },
   "cell_type": "markdown",
   "metadata": {},
   "source": [
    "![image.png](attachment:image.png)"
   ]
  },
  {
   "cell_type": "markdown",
   "metadata": {},
   "source": [
    "### Appending"
   ]
  },
  {
   "cell_type": "code",
   "execution_count": 76,
   "metadata": {},
   "outputs": [
    {
     "data": {
      "text/plain": [
       "['Allison', 'Kate', 'Trish', 'Jackson', 'Carrie']"
      ]
     },
     "execution_count": 76,
     "metadata": {},
     "output_type": "execute_result"
    }
   ],
   "source": [
    "student_names=['Allison','Kate','Trish','Jackson']\n",
    "student_names.append('Carrie')\n",
    "student_names\n"
   ]
  },
  {
   "cell_type": "code",
   "execution_count": 77,
   "metadata": {},
   "outputs": [
    {
     "data": {
      "text/plain": [
       "['Allison', 'Kate', 'Willhem', 'Trish', 'Jackson', 'Carrie']"
      ]
     },
     "execution_count": 77,
     "metadata": {},
     "output_type": "execute_result"
    }
   ],
   "source": [
    "# inserting by indexing\n",
    "\n",
    "student_names.insert(2,'Willhem')\n",
    "student_names"
   ]
  },
  {
   "cell_type": "code",
   "execution_count": 78,
   "metadata": {},
   "outputs": [
    {
     "data": {
      "text/plain": [
       "['Allison', 'Willhem', 'Trish', 'Jackson', 'Carrie']"
      ]
     },
     "execution_count": 78,
     "metadata": {},
     "output_type": "execute_result"
    }
   ],
   "source": [
    "# Removing Values\n",
    "student_names.remove('Kate')   # use this option if you only know the value of the item\n",
    "student_names"
   ]
  },
  {
   "cell_type": "code",
   "execution_count": 84,
   "metadata": {},
   "outputs": [
    {
     "name": "stdout",
     "output_type": "stream",
     "text": [
      "I removed Willhem\n"
     ]
    }
   ],
   "source": [
    "#if you want to retrieve the removed item later on use pop() and insert the indexing of the item\n",
    "#and assign it to a variable\n",
    "\n",
    "removed_student=student_names.pop(0)\n",
    "student_names\n",
    "print('I removed '+removed_student )"
   ]
  },
  {
   "cell_type": "markdown",
   "metadata": {},
   "source": [
    "### Modifying String Values"
   ]
  },
  {
   "cell_type": "code",
   "execution_count": 108,
   "metadata": {},
   "outputs": [
    {
     "data": {
      "text/plain": [
       "'e'"
      ]
     },
     "execution_count": 108,
     "metadata": {},
     "output_type": "execute_result"
    }
   ],
   "source": [
    "name='Alexa'\n",
    "name[2]"
   ]
  },
  {
   "cell_type": "code",
   "execution_count": 110,
   "metadata": {},
   "outputs": [
    {
     "name": "stdout",
     "output_type": "stream",
     "text": [
      "***A***\n",
      "***l***\n",
      "***e***\n",
      "***x***\n",
      "***a***\n"
     ]
    }
   ],
   "source": [
    "for i in name:\n",
    "    print('***'+ i +'***')"
   ]
  },
  {
   "cell_type": "code",
   "execution_count": 117,
   "metadata": {},
   "outputs": [
    {
     "data": {
      "text/plain": [
       "'Hana the cat'"
      ]
     },
     "execution_count": 117,
     "metadata": {},
     "output_type": "execute_result"
    }
   ],
   "source": [
    "pet_name= 'Hana is my cat'\n",
    "pet_name_arrange = pet_name[0:4] +' the '+pet_name[11:14]\n",
    "pet_name_arrange"
   ]
  },
  {
   "cell_type": "markdown",
   "metadata": {},
   "source": [
    "## TUPLES\n",
    "immutable data types"
   ]
  },
  {
   "cell_type": "code",
   "execution_count": 118,
   "metadata": {},
   "outputs": [
    {
     "data": {
      "text/plain": [
       "'hi'"
      ]
     },
     "execution_count": 118,
     "metadata": {},
     "output_type": "execute_result"
    }
   ],
   "source": [
    "my_tuple=('hi',78,3.14)\n",
    "my_tuple[0]"
   ]
  },
  {
   "cell_type": "code",
   "execution_count": 119,
   "metadata": {},
   "outputs": [
    {
     "ename": "TypeError",
     "evalue": "'tuple' object does not support item assignment",
     "output_type": "error",
     "traceback": [
      "\u001b[1;31m---------------------------------------------------------------------------\u001b[0m",
      "\u001b[1;31mTypeError\u001b[0m                                 Traceback (most recent call last)",
      "\u001b[1;32m<ipython-input-119-208f5eeec584>\u001b[0m in \u001b[0;36m<module>\u001b[1;34m\u001b[0m\n\u001b[0;32m      1\u001b[0m \u001b[1;31m# you cannot modify a tuple\u001b[0m\u001b[1;33m\u001b[0m\u001b[1;33m\u001b[0m\u001b[1;33m\u001b[0m\u001b[0m\n\u001b[1;32m----> 2\u001b[1;33m \u001b[0mmy_tuple\u001b[0m\u001b[1;33m[\u001b[0m\u001b[1;36m2\u001b[0m\u001b[1;33m]\u001b[0m\u001b[1;33m=\u001b[0m\u001b[1;36m99\u001b[0m\u001b[1;33m\u001b[0m\u001b[1;33m\u001b[0m\u001b[0m\n\u001b[0m\u001b[0;32m      3\u001b[0m \u001b[0mmy_tuple\u001b[0m\u001b[1;33m\u001b[0m\u001b[1;33m\u001b[0m\u001b[0m\n",
      "\u001b[1;31mTypeError\u001b[0m: 'tuple' object does not support item assignment"
     ]
    }
   ],
   "source": [
    "# you cannot modify a tuple\n",
    "my_tuple[2]=99\n",
    "my_tuple"
   ]
  },
  {
   "cell_type": "code",
   "execution_count": 124,
   "metadata": {},
   "outputs": [
    {
     "name": "stdout",
     "output_type": "stream",
     "text": [
      "['h', 'i']\n"
     ]
    }
   ],
   "source": [
    "# converting list into tuples or vice versa.\n",
    "name_list\n",
    "name_list= tuple(name_list)\n",
    "name_list\n",
    "\n",
    "print(list(my_tuple[0]))"
   ]
  },
  {
   "cell_type": "markdown",
   "metadata": {},
   "source": [
    "### Copying and deepcopying\n",
    "if you don't want to lose the original data , when you make adjustments"
   ]
  },
  {
   "cell_type": "code",
   "execution_count": 126,
   "metadata": {},
   "outputs": [],
   "source": [
    "import copy\n",
    "copy_name=copy.copy(name_list)"
   ]
  },
  {
   "cell_type": "code",
   "execution_count": 127,
   "metadata": {},
   "outputs": [
    {
     "data": {
      "text/plain": [
       "'Jackie'"
      ]
     },
     "execution_count": 127,
     "metadata": {},
     "output_type": "execute_result"
    }
   ],
   "source": [
    "copy_name[1]"
   ]
  },
  {
   "cell_type": "code",
   "execution_count": 128,
   "metadata": {},
   "outputs": [
    {
     "data": {
      "text/plain": [
       "[[1, 2, 3, 4, 5], ['A', 'B', 'C', 'D', 'E', 'F']]"
      ]
     },
     "execution_count": 128,
     "metadata": {},
     "output_type": "execute_result"
    }
   ],
   "source": [
    "#for lists in a list use deepcopy()\n",
    "\n",
    "my_list=[[1,2,3,4,5],['A','B','C','D','E','F']]\n",
    "copy_list=copy.deepcopy(my_list)\n",
    "copy_list"
   ]
  }
 ],
 "metadata": {
  "kernelspec": {
   "display_name": "Python 3",
   "language": "python",
   "name": "python3"
  },
  "language_info": {
   "codemirror_mode": {
    "name": "ipython",
    "version": 3
   },
   "file_extension": ".py",
   "mimetype": "text/x-python",
   "name": "python",
   "nbconvert_exporter": "python",
   "pygments_lexer": "ipython3",
   "version": "3.8.5"
  }
 },
 "nbformat": 4,
 "nbformat_minor": 4
}
