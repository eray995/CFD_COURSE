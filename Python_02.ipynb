{
 "cells": [
  {
   "cell_type": "markdown",
   "metadata": {},
   "source": [
    "## Boolean Values "
   ]
  },
  {
   "cell_type": "code",
   "execution_count": 1,
   "metadata": {},
   "outputs": [
    {
     "data": {
      "text/plain": [
       "True"
      ]
     },
     "execution_count": 1,
     "metadata": {},
     "output_type": "execute_result"
    }
   ],
   "source": [
    "1+1 == 2"
   ]
  },
  {
   "cell_type": "code",
   "execution_count": 2,
   "metadata": {},
   "outputs": [
    {
     "data": {
      "text/plain": [
       "False"
      ]
     },
     "execution_count": 2,
     "metadata": {},
     "output_type": "execute_result"
    }
   ],
   "source": [
    "a='python3'\n",
    "b='matlab'\n",
    "a==b"
   ]
  },
  {
   "cell_type": "code",
   "execution_count": 3,
   "metadata": {},
   "outputs": [
    {
     "data": {
      "text/plain": [
       "True"
      ]
     },
     "execution_count": 3,
     "metadata": {},
     "output_type": "execute_result"
    }
   ],
   "source": [
    "2 !=3"
   ]
  },
  {
   "cell_type": "code",
   "execution_count": 4,
   "metadata": {},
   "outputs": [
    {
     "data": {
      "text/plain": [
       "True"
      ]
     },
     "execution_count": 4,
     "metadata": {},
     "output_type": "execute_result"
    }
   ],
   "source": [
    "2<5"
   ]
  },
  {
   "cell_type": "code",
   "execution_count": 5,
   "metadata": {},
   "outputs": [
    {
     "data": {
      "text/plain": [
       "True"
      ]
     },
     "execution_count": 5,
     "metadata": {},
     "output_type": "execute_result"
    }
   ],
   "source": [
    "2+45*3 > 45"
   ]
  },
  {
   "cell_type": "code",
   "execution_count": 6,
   "metadata": {},
   "outputs": [
    {
     "data": {
      "text/plain": [
       "True"
      ]
     },
     "execution_count": 6,
     "metadata": {},
     "output_type": "execute_result"
    }
   ],
   "source": [
    "True and True"
   ]
  },
  {
   "cell_type": "code",
   "execution_count": 7,
   "metadata": {},
   "outputs": [
    {
     "data": {
      "text/plain": [
       "True"
      ]
     },
     "execution_count": 7,
     "metadata": {},
     "output_type": "execute_result"
    }
   ],
   "source": [
    "True or False"
   ]
  },
  {
   "cell_type": "code",
   "execution_count": 8,
   "metadata": {},
   "outputs": [
    {
     "data": {
      "text/plain": [
       "False"
      ]
     },
     "execution_count": 8,
     "metadata": {},
     "output_type": "execute_result"
    }
   ],
   "source": [
    "False and True"
   ]
  },
  {
   "cell_type": "code",
   "execution_count": 9,
   "metadata": {},
   "outputs": [
    {
     "data": {
      "text/plain": [
       "False"
      ]
     },
     "execution_count": 9,
     "metadata": {},
     "output_type": "execute_result"
    }
   ],
   "source": [
    "not True"
   ]
  },
  {
   "cell_type": "markdown",
   "metadata": {},
   "source": [
    "### If and If..Else Statements"
   ]
  },
  {
   "cell_type": "code",
   "execution_count": 6,
   "metadata": {},
   "outputs": [
    {
     "name": "stdout",
     "output_type": "stream",
     "text": [
      "Adolescent\n"
     ]
    }
   ],
   "source": [
    "age = 15\n",
    "if age >=25:\n",
    "    print(\"Adult\")\n",
    "elif age <= 3:\n",
    "    print(\"Toddler\")\n",
    "elif age <= 14:\n",
    "    print(\"Kid\")\n",
    "elif age <= 25:\n",
    "    print(\"Adolescent\")    \n",
    "elif age >= 55:\n",
    "    print(\"Senior\")\n",
    "else:\n",
    "    print(\"Not an Adult\")"
   ]
  },
  {
   "cell_type": "markdown",
   "metadata": {},
   "source": [
    "### While Loops "
   ]
  },
  {
   "cell_type": "code",
   "execution_count": 8,
   "metadata": {},
   "outputs": [
    {
     "name": "stdout",
     "output_type": "stream",
     "text": [
      "Value of x is:0\n"
     ]
    }
   ],
   "source": [
    "x = 0\n",
    "if x < 10:\n",
    "    print(f'Value of x is:{x}')\n",
    "    x = x + 1"
   ]
  },
  {
   "cell_type": "code",
   "execution_count": 9,
   "metadata": {},
   "outputs": [
    {
     "name": "stdout",
     "output_type": "stream",
     "text": [
      "Value of x is:0\n",
      "Value of x is:1\n",
      "Value of x is:2\n",
      "Value of x is:3\n",
      "Value of x is:4\n",
      "Value of x is:5\n",
      "Value of x is:6\n",
      "Value of x is:7\n",
      "Value of x is:8\n",
      "Value of x is:9\n"
     ]
    }
   ],
   "source": [
    "x = 0\n",
    "while x < 10:\n",
    "    print(f'Value of x is:{x}')\n",
    "    x = x + 1"
   ]
  },
  {
   "cell_type": "code",
   "execution_count": 11,
   "metadata": {},
   "outputs": [
    {
     "name": "stdout",
     "output_type": "stream",
     "text": [
      "Please type your name (press q to exit)aylin\n",
      "aylin\n",
      "Please type your name (press q to exit)ellie\n",
      "ellie\n",
      "Please type your name (press q to exit)matt\n",
      "matt\n",
      "Please type your name (press q to exit)q\n",
      "q\n"
     ]
    }
   ],
   "source": [
    "while True:\n",
    "    message=input(\"Please type your name (press q to exit)\")\n",
    "    print(message)\n",
    "    if message == 'q':\n",
    "        break"
   ]
  },
  {
   "cell_type": "code",
   "execution_count": null,
   "metadata": {},
   "outputs": [],
   "source": [
    "while True:\n",
    "    name=input(\"Please type your name \")\n",
    "    print(name)\n",
    "    if message != 'John':\n",
    "        continue\n",
    "    password=input(\"Hey John, What's the password?(Type 4 digits)\")\n",
    "    if password == '1234':\n",
    "        break\n",
    "print(\"Acces granted\")\n",
    "    "
   ]
  },
  {
   "cell_type": "code",
   "execution_count": null,
   "metadata": {},
   "outputs": [],
   "source": [
    "while True:\n",
    "print('Who are you?')\n",
    "name = input()\n",
    " if name != 'Joe':\n",
    " continue\n",
    "print('Hello, Joe. What is the password? (It is a fish.)')\n",
    " password = input()\n",
    "if password == 'swordfish':\n",
    " break\n",
    " print('Access granted.')"
   ]
  },
  {
   "cell_type": "code",
   "execution_count": 3,
   "metadata": {},
   "outputs": [
    {
     "name": "stdout",
     "output_type": "stream",
     "text": [
      "Please type your name Aylin\n",
      "Aylin\n",
      "Please type your name John\n",
      "John\n",
      "Hey John, What's the password?(Type 4 digits)1234\n",
      "Access granted\n"
     ]
    }
   ],
   "source": [
    "while True:\n",
    "    name=input(\"Please type your name \")\n",
    "    print(name)\n",
    "    if name != 'John':\n",
    "        continue\n",
    "    password=input(\"Hey John, What's the password?(Type 4 digits)\")\n",
    "    if password == '1234':\n",
    "        break\n",
    "print(\"Access granted\")\n",
    "    "
   ]
  },
  {
   "cell_type": "code",
   "execution_count": 3,
   "metadata": {},
   "outputs": [
    {
     "name": "stdout",
     "output_type": "stream",
     "text": [
      "0\n",
      "1\n",
      "3\n",
      "6\n",
      "10\n",
      "15\n",
      "21\n",
      "28\n",
      "36\n",
      "45\n",
      "55\n",
      "66\n",
      "78\n",
      "91\n",
      "105\n",
      "120\n",
      "136\n",
      "153\n",
      "171\n",
      "190\n",
      "210\n",
      "231\n",
      "253\n",
      "276\n",
      "300\n",
      "325\n",
      "351\n",
      "378\n",
      "406\n",
      "435\n",
      "465\n",
      "496\n",
      "528\n",
      "561\n",
      "595\n",
      "630\n",
      "666\n",
      "703\n",
      "741\n",
      "780\n",
      "820\n",
      "861\n",
      "903\n",
      "946\n",
      "990\n",
      "1035\n",
      "1081\n",
      "1128\n",
      "1176\n",
      "1225\n",
      "1275\n",
      "1326\n",
      "1378\n",
      "1431\n",
      "1485\n",
      "1540\n",
      "1596\n",
      "1653\n",
      "1711\n",
      "1770\n",
      "1830\n",
      "1891\n",
      "1953\n",
      "2016\n",
      "2080\n",
      "2145\n",
      "2211\n",
      "2278\n",
      "2346\n",
      "2415\n",
      "2485\n",
      "2556\n",
      "2628\n",
      "2701\n",
      "2775\n",
      "2850\n",
      "2926\n",
      "3003\n",
      "3081\n",
      "3160\n",
      "3240\n",
      "3321\n",
      "3403\n",
      "3486\n",
      "3570\n",
      "3655\n",
      "3741\n",
      "3828\n",
      "3916\n",
      "4005\n",
      "4095\n",
      "4186\n",
      "4278\n",
      "4371\n",
      "4465\n",
      "4560\n",
      "4656\n",
      "4753\n",
      "4851\n",
      "4950\n",
      "5050\n"
     ]
    }
   ],
   "source": [
    "total_sum=0\n",
    "for i in range(101):\n",
    "    total_sum=total_sum+i\n",
    "    print(total_sum)"
   ]
  },
  {
   "cell_type": "code",
   "execution_count": 6,
   "metadata": {},
   "outputs": [
    {
     "name": "stdout",
     "output_type": "stream",
     "text": [
      "1\n",
      "3\n",
      "5\n",
      "7\n",
      "9\n",
      "11\n",
      "13\n",
      "15\n",
      "17\n",
      "19\n",
      "21\n",
      "23\n",
      "25\n",
      "27\n",
      "29\n",
      "31\n",
      "33\n",
      "35\n",
      "37\n",
      "39\n",
      "41\n",
      "43\n",
      "45\n",
      "47\n",
      "49\n",
      "51\n",
      "53\n",
      "55\n",
      "57\n",
      "59\n",
      "61\n",
      "63\n",
      "65\n",
      "67\n",
      "69\n",
      "71\n",
      "73\n",
      "75\n",
      "77\n",
      "79\n",
      "81\n",
      "83\n",
      "85\n",
      "87\n",
      "89\n",
      "91\n",
      "93\n",
      "95\n",
      "97\n",
      "99\n",
      "101\n",
      "103\n",
      "105\n",
      "107\n",
      "109\n",
      "111\n",
      "113\n",
      "115\n",
      "117\n",
      "119\n",
      "121\n",
      "123\n",
      "125\n",
      "127\n",
      "129\n",
      "131\n",
      "133\n",
      "135\n",
      "137\n",
      "139\n",
      "141\n",
      "143\n",
      "145\n",
      "147\n",
      "149\n",
      "151\n",
      "153\n",
      "155\n",
      "157\n",
      "159\n",
      "161\n",
      "163\n",
      "165\n",
      "167\n",
      "169\n",
      "171\n",
      "173\n",
      "175\n",
      "177\n",
      "179\n",
      "181\n",
      "183\n",
      "185\n",
      "187\n",
      "189\n",
      "191\n",
      "193\n",
      "195\n",
      "197\n",
      "199\n"
     ]
    }
   ],
   "source": [
    "for i in range(1,200,2):\n",
    "    print(i)"
   ]
  },
  {
   "cell_type": "code",
   "execution_count": 2,
   "metadata": {},
   "outputs": [
    {
     "name": "stdout",
     "output_type": "stream",
     "text": [
      "Type q to exit:  Hi\n",
      "You typed Hi\n",
      "Type q to exit:  Hello\n",
      "You typed Hello\n",
      "Type q to exit:  Bye\n",
      "You typed Bye\n",
      "Type q to exit:  q\n"
     ]
    },
    {
     "ename": "SystemExit",
     "evalue": "",
     "output_type": "error",
     "traceback": [
      "An exception has occurred, use %tb to see the full traceback.\n",
      "\u001b[1;31mSystemExit\u001b[0m\n"
     ]
    },
    {
     "name": "stderr",
     "output_type": "stream",
     "text": [
      "C:\\Users\\Aylin\\anaconda3\\lib\\site-packages\\IPython\\core\\interactiveshell.py:3426: UserWarning: To exit: use 'exit', 'quit', or Ctrl-D.\n",
      "  warn(\"To exit: use 'exit', 'quit', or Ctrl-D.\", stacklevel=1)\n"
     ]
    }
   ],
   "source": [
    "# terminate the program with sys.exit() command\n",
    "\n",
    "import sys\n",
    "\n",
    "while True:\n",
    "    message=input(\"Type q to exit:  \")\n",
    "    if message == 'q':\n",
    "        sys.exit()\n",
    "    print(\"You typed \"+message)"
   ]
  },
  {
   "cell_type": "markdown",
   "metadata": {},
   "source": [
    "## GUESS THE NUMBER "
   ]
  },
  {
   "cell_type": "code",
   "execution_count": 3,
   "metadata": {},
   "outputs": [
    {
     "name": "stdout",
     "output_type": "stream",
     "text": [
      "Guess a number between 2 and 50. You have 10 trials to pinpoint the correct number. \n",
      "Give your best shot!\n",
      "1\n",
      "Your guess is lower than the number\n",
      "Give your best shot!\n",
      "90\n",
      "Your guess is higher than the number\n",
      "Give your best shot!\n",
      "56\n",
      "Your guess is higher than the number\n",
      "Give your best shot!\n",
      "30\n",
      "Your guess is higher than the number\n",
      "Give your best shot!\n",
      "20\n",
      "Your guess is higher than the number\n",
      "Give your best shot!\n",
      "12\n",
      "Your guess is lower than the number\n",
      "Give your best shot!\n",
      "15\n",
      "Your guess is lower than the number\n",
      "Give your best shot!\n",
      "17\n",
      "Hit the bullseye in 8 attempts!\n"
     ]
    }
   ],
   "source": [
    "import random\n",
    "number_0 = random.randint(2,50)   # unknown number is to be picked from the range of 2-50 .\n",
    "print(\"Guess a number between 2 and 50. You have 10 trials to pinpoint the correct number. \")\n",
    "\n",
    "for wild_guess in range(1,11):\n",
    "    print(\"Give your best shot!\")\n",
    "    guess_attempt=int(input())\n",
    "    \n",
    "    if guess_attempt < number_0:\n",
    "        print(\"Your guess is lower than the number\")\n",
    "    elif guess_attempt > number_0:\n",
    "        print(\"Your guess is higher than the number\")\n",
    "    else:\n",
    "        break\n",
    "if guess_attempt == number_0:\n",
    "    print(\"Hit the bullseye in \"+str(wild_guess)+\" attempts!\")\n",
    "else:\n",
    "    print(\"Sorry, today is not your lucky day. \"+\"The number in question was \"+ str(number_0))"
   ]
  },
  {
   "cell_type": "markdown",
   "metadata": {},
   "source": [
    "## Rock,Paper,Scissors"
   ]
  },
  {
   "cell_type": "code",
   "execution_count": 1,
   "metadata": {},
   "outputs": [
    {
     "name": "stdout",
     "output_type": "stream",
     "text": [
      "ROCK,PAPER,SCISSORS\n",
      "0 Wins,0 Losses, 0 Ties\n",
      "What's your move: r for rock, p for paper, s for scissors or type q to exit.\n",
      "r\n",
      "ROCK vs.\n",
      "PAPER\n",
      "You lose!\n",
      "0 Wins,1 Losses, 0 Ties\n",
      "What's your move: r for rock, p for paper, s for scissors or type q to exit.\n",
      "p\n",
      "PAPER vs.\n",
      "PAPER\n",
      "It's a tie\n",
      "0 Wins,1 Losses, 0 Ties\n",
      "What's your move: r for rock, p for paper, s for scissors or type q to exit.\n",
      "r\n",
      "ROCK vs.\n",
      "ROCK\n",
      "It's a tie\n",
      "0 Wins,1 Losses, 0 Ties\n",
      "What's your move: r for rock, p for paper, s for scissors or type q to exit.\n",
      "s\n",
      "SCISSORS vs.\n",
      "PAPER\n",
      "You win!\n",
      "1 Wins,1 Losses, 0 Ties\n",
      "What's your move: r for rock, p for paper, s for scissors or type q to exit.\n",
      "s\n",
      "SCISSORS vs.\n",
      "ROCK\n",
      "You lose!\n",
      "1 Wins,2 Losses, 0 Ties\n",
      "What's your move: r for rock, p for paper, s for scissors or type q to exit.\n",
      "q\n"
     ]
    },
    {
     "ename": "SystemExit",
     "evalue": "",
     "output_type": "error",
     "traceback": [
      "An exception has occurred, use %tb to see the full traceback.\n",
      "\u001b[1;31mSystemExit\u001b[0m\n"
     ]
    },
    {
     "name": "stderr",
     "output_type": "stream",
     "text": [
      "C:\\Users\\Aylin\\anaconda3\\lib\\site-packages\\IPython\\core\\interactiveshell.py:3426: UserWarning: To exit: use 'exit', 'quit', or Ctrl-D.\n",
      "  warn(\"To exit: use 'exit', 'quit', or Ctrl-D.\", stacklevel=1)\n"
     ]
    }
   ],
   "source": [
    "import random,sys\n",
    "print('ROCK,PAPER,SCISSORS')\n",
    "wins=0  # Assigning initial variables and values\n",
    "losses=0\n",
    "ties=0\n",
    "\n",
    "while True: \n",
    "    print('%s Wins,%s Losses, %s Ties' %(wins,losses,ties)) # setting up the variables\n",
    "    while True: # player loop\n",
    "        print(\"What's your move: r for rock, p for paper, s for scissors or type q to exit.\")\n",
    "        move = input()\n",
    "        if move == 'q':\n",
    "            sys.exit()  # terminates the program\n",
    "        if move == 'r' or move == 'p' or move =='s':\n",
    "            break # break out of the player input loop.\n",
    "        print('Type one of these: r,p,s or q')\n",
    "        \n",
    "    if move == 'r':\n",
    "        print(\"ROCK vs.\")\n",
    "    elif move == 'p':\n",
    "        print(\"PAPER vs.\")\n",
    "    elif move == 's':\n",
    "        print(\"SCISSORS vs.\")\n",
    "        \n",
    "    #Opponent choice(Computer):\n",
    "    random_number=random.randint(1,3)\n",
    "    if random_number == 1:\n",
    "        computer_move='r'\n",
    "        print('ROCK')\n",
    "    elif random_number == 2:\n",
    "        computer_move='p'\n",
    "        print('PAPER')\n",
    "    elif random_number == 3:\n",
    "        computer_move ='s'\n",
    "        print('SCISSORS')\n",
    "        \n",
    "    #STATUS:\n",
    "    if move == computer_move:\n",
    "        print(\"It's a tie\")\n",
    "    elif move == 'r' and computer_move=='s':\n",
    "        print('You win!')\n",
    "        wins = wins +1\n",
    "    elif move == 'p' and computer_move == 'r':\n",
    "        print('You win!')\n",
    "        wins=wins+1\n",
    "    elif move == 's' and computer_move=='p':\n",
    "        print('You win!')\n",
    "        wins=wins+1\n",
    "    elif move=='r' and computer_move == 'p':\n",
    "        print('You lose!')\n",
    "        losses = losses +1\n",
    "    elif move == 'p' and computer_move == 's':\n",
    "        print('You lose!')\n",
    "        losses = losses +1\n",
    "    elif move == 's' and computer_move == 'r':\n",
    "        print('You lose!')\n",
    "        losses = losses +1"
   ]
  },
  {
   "cell_type": "code",
   "execution_count": null,
   "metadata": {},
   "outputs": [],
   "source": []
  },
  {
   "cell_type": "code",
   "execution_count": null,
   "metadata": {},
   "outputs": [],
   "source": []
  }
 ],
 "metadata": {
  "kernelspec": {
   "display_name": "Python 3",
   "language": "python",
   "name": "python3"
  },
  "language_info": {
   "codemirror_mode": {
    "name": "ipython",
    "version": 3
   },
   "file_extension": ".py",
   "mimetype": "text/x-python",
   "name": "python",
   "nbconvert_exporter": "python",
   "pygments_lexer": "ipython3",
   "version": "3.8.5"
  }
 },
 "nbformat": 4,
 "nbformat_minor": 4
}
