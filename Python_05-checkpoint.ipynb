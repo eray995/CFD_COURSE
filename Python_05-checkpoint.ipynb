{
 "cells": [
  {
   "cell_type": "markdown",
   "metadata": {},
   "source": [
    "# DICTIONARIES"
   ]
  },
  {
   "cell_type": "markdown",
   "metadata": {},
   "source": [
    "Dictionary is a mutable collection of many values. But unlike\n",
    "indexes for lists, indexes for dictionaries can use many different data types,\n",
    "not just integers. Indexes for dictionaries are called keys, and a key with its\n",
    "associated value is called a key-value pair."
   ]
  },
  {
   "cell_type": "code",
   "execution_count": 1,
   "metadata": {},
   "outputs": [],
   "source": [
    "user_info={'name':'John','age':'27','profession':'mathematician'}"
   ]
  },
  {
   "cell_type": "code",
   "execution_count": 2,
   "metadata": {},
   "outputs": [
    {
     "data": {
      "text/plain": [
       "'mathematician'"
      ]
     },
     "execution_count": 2,
     "metadata": {},
     "output_type": "execute_result"
    }
   ],
   "source": [
    "user_info['profession']"
   ]
  },
  {
   "cell_type": "code",
   "execution_count": 3,
   "metadata": {},
   "outputs": [
    {
     "name": "stdout",
     "output_type": "stream",
     "text": [
      "Hello John, welcome onboard!\n"
     ]
    }
   ],
   "source": [
    "print('Hello '+user_info['name']+', welcome onboard!')"
   ]
  },
  {
   "cell_type": "code",
   "execution_count": 6,
   "metadata": {},
   "outputs": [
    {
     "name": "stdout",
     "output_type": "stream",
     "text": [
      "Type a name (q to quit.)\n",
      "Joe\n",
      "Joe's lucky number is 5\n",
      "Type a name (q to quit.)\n",
      "Hana\n",
      "Hana's lucky number is 8\n",
      "Type a name (q to quit.)\n",
      "Zoey\n",
      "Zoey's lucky number is 13\n",
      "Type a name (q to quit.)\n",
      "Aylin\n",
      "I don't know this person. What's his/her lucky number?\n",
      "8\n",
      "Yes we'r all set now.\n",
      "Type a name (q to quit.)\n",
      "Aylin\n",
      "Aylin's lucky number is 8\n",
      "Type a name (q to quit.)\n",
      "q\n"
     ]
    }
   ],
   "source": [
    "lucky_number={'Joe':5,'Hana':8,'Mei':12,'Zoey':13}\n",
    "\n",
    "while True:\n",
    "    print('Type a name (q to quit.)')\n",
    "    name=input()\n",
    "    if name == 'q':\n",
    "        break\n",
    "        \n",
    "    if name in lucky_number:\n",
    "        print(f\"{name}'s lucky number is {lucky_number[name]}\")\n",
    "    else:\n",
    "        print(\"I don't know this person. What's his/her lucky number?\")\n",
    "        lucky_one=input()\n",
    "        lucky_number[name]=lucky_one\n",
    "        print(\"Yes we'r all set now.\")"
   ]
  },
  {
   "cell_type": "markdown",
   "metadata": {},
   "source": [
    "keys(),values(),items()"
   ]
  },
  {
   "cell_type": "code",
   "execution_count": 8,
   "metadata": {},
   "outputs": [
    {
     "name": "stdout",
     "output_type": "stream",
     "text": [
      "Joe\n",
      "27\n"
     ]
    }
   ],
   "source": [
    "personal_info={'name':'Joe','age':27}\n",
    "for v in personal_info.values():   # v for value\n",
    "    print(v)"
   ]
  },
  {
   "cell_type": "code",
   "execution_count": 9,
   "metadata": {},
   "outputs": [
    {
     "name": "stdout",
     "output_type": "stream",
     "text": [
      "name\n",
      "age\n"
     ]
    }
   ],
   "source": [
    "for k in personal_info.keys():\n",
    "    print(k)"
   ]
  },
  {
   "cell_type": "code",
   "execution_count": 11,
   "metadata": {},
   "outputs": [
    {
     "name": "stdout",
     "output_type": "stream",
     "text": [
      "('name', 'Joe')\n",
      "('age', 27)\n"
     ]
    }
   ],
   "source": [
    "for i in personal_info.items():\n",
    "    print(i)  # output will be a tuple for each pair"
   ]
  },
  {
   "cell_type": "code",
   "execution_count": 13,
   "metadata": {},
   "outputs": [
    {
     "data": {
      "text/plain": [
       "['name', 'age']"
      ]
     },
     "execution_count": 13,
     "metadata": {},
     "output_type": "execute_result"
    }
   ],
   "source": [
    "#convert into lists:\n",
    "\n",
    "list_dict=list(personal_info.keys())\n",
    "list_dict"
   ]
  },
  {
   "cell_type": "code",
   "execution_count": 16,
   "metadata": {},
   "outputs": [
    {
     "name": "stdout",
     "output_type": "stream",
     "text": [
      "Key: name Value: Joe\n",
      "Key: age Value: 27\n"
     ]
    }
   ],
   "source": [
    "for k,v in personal_info.items():\n",
    "    print('Key: '+k+ ' Value: '+str(v))"
   ]
  },
  {
   "cell_type": "code",
   "execution_count": 17,
   "metadata": {},
   "outputs": [
    {
     "data": {
      "text/plain": [
       "True"
      ]
     },
     "execution_count": 17,
     "metadata": {},
     "output_type": "execute_result"
    }
   ],
   "source": [
    "'name' in personal_info.keys()  #doublecheck whether a specific key exists in a dixtionary."
   ]
  },
  {
   "cell_type": "markdown",
   "metadata": {},
   "source": [
    "### Get Method"
   ]
  },
  {
   "cell_type": "code",
   "execution_count": 22,
   "metadata": {},
   "outputs": [
    {
     "name": "stdout",
     "output_type": "stream",
     "text": [
      "Additional info: None\n"
     ]
    }
   ],
   "source": [
    "# you can also doublecheck by using get() command, as a short-cut mmethod\n",
    "#get() method  takes two arguments: the key of the value to retrieve and a \n",
    "#fallback value to return if that key does not exist. So, when the called key or value does not \n",
    "#exist within a dictionary, our programme wouldn't crash on the spot.\n",
    "\n",
    "print('Additional info: '+ str(personal_info.get('Hobbies',None)))   #None : we dont have this key.\n"
   ]
  },
  {
   "cell_type": "code",
   "execution_count": 23,
   "metadata": {},
   "outputs": [
    {
     "data": {
      "text/plain": [
       "{'name': 'Joe', 'age': 27, 'Hobbies': 'Scuba-Diving'}"
      ]
     },
     "execution_count": 23,
     "metadata": {},
     "output_type": "execute_result"
    }
   ],
   "source": [
    "# Adding Values:\n",
    "\n",
    "personal_info['Hobbies']='Scuba-Diving'\n",
    "personal_info"
   ]
  },
  {
   "cell_type": "code",
   "execution_count": 27,
   "metadata": {},
   "outputs": [
    {
     "name": "stdout",
     "output_type": "stream",
     "text": [
      "Number of things being brought:\n",
      " - Apples 7\n",
      " - Cups 3\n",
      " - Cakes 0\n",
      " - Ham Sandwiches 3\n",
      " - Apple Pies 1\n"
     ]
    }
   ],
   "source": [
    "# Nested Dictionaries\n",
    "allGuests = {'Alice': {'apples': 5, 'pretzels': 12},\n",
    "'Bob': {'ham sandwiches': 3, 'apples': 2},\n",
    "'Carol': {'cups': 3, 'apple pies': 1}}\n",
    "\n",
    "def totalBrought(guests, item):\n",
    "    numBrought = 0\n",
    "    for k, v in guests.items():\n",
    "        numBrought = numBrought + v.get(item, 0)\n",
    "    return numBrought\n",
    "print('Number of things being brought:')\n",
    "print(' - Apples ' + str(totalBrought(allGuests, 'apples')))\n",
    "print(' - Cups ' + str(totalBrought(allGuests, 'cups')))\n",
    "print(' - Cakes ' + str(totalBrought(allGuests, 'cakes')))\n",
    "print(' - Ham Sandwiches ' + str(totalBrought(allGuests, 'ham sandwiches')))\n",
    "print(' - Apple Pies ' + str(totalBrought(allGuests, 'apple pies')))"
   ]
  }
 ],
 "metadata": {
  "kernelspec": {
   "display_name": "Python 3",
   "language": "python",
   "name": "python3"
  },
  "language_info": {
   "codemirror_mode": {
    "name": "ipython",
    "version": 3
   },
   "file_extension": ".py",
   "mimetype": "text/x-python",
   "name": "python",
   "nbconvert_exporter": "python",
   "pygments_lexer": "ipython3",
   "version": "3.8.5"
  }
 },
 "nbformat": 4,
 "nbformat_minor": 4
}
